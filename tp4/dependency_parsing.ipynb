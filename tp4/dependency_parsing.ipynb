{
 "cells": [
  {
   "cell_type": "code",
   "execution_count": 4,
   "metadata": {},
   "outputs": [],
   "source": [
    "import spacy\n",
    "from spacy.tokens import DocBin\n",
    "from spacy.training import Example\n",
    "from spacy.util import minibatch\n",
    "import random\n"
   ]
  },
  {
   "cell_type": "code",
   "execution_count": 26,
   "metadata": {},
   "outputs": [],
   "source": [
    "TRAIN_DATA = [\n",
    "    # Exemples avec \"few\"\n",
    "    (\"There are few books on the shelf.\", {\"heads\": [2, 1, 3, 4, 5, 7, 7], \"deps\": [\"expl\", \"ROOT\", \"det\", \"nsubj\", \"prep\", \"det\", \"pobj\"]}),\n",
    "    (\"Few students attended the class today.\", {\"heads\": [1, 1, 3, 4, 5, 5, 5], \"deps\": [\"det\", \"nsubj\", \"ROOT\", \"det\", \"dobj\", \"advmod\", \"punct\"]}),\n",
    "    (\"He has few friends in the city.\", {\"heads\": [1, 1, 4, 3, 5, 7, 7], \"deps\": [\"nsubj\", \"ROOT\", \"Quantity\", \"dobj\", \"prep\", \"det\", \"pobj\"]}),\n",
    "    \n",
    "    # Exemples avec \"many\"\n",
    "    (\"Many people think alike.\", {\"heads\": [2, 1, 3, 3], \"deps\": [\"Quantity\", \"nsubj\", \"ROOT\", \"advmod\"]}),\n",
    "    (\"There were many participants in the marathon.\", {\"heads\": [2, 1, 3, 4, 5, 7, 7], \"deps\": [\"expl\", \"ROOT\", \"Quantity\", \"nsubj\", \"prep\", \"det\", \"pobj\"]}),\n",
    "    (\"Many students finished the exam early.\", {\"heads\": [1, 1, 4, 5, 4, 5], \"deps\": [\"Quantity\", \"nsubj\", \"ROOT\", \"det\", \"dobj\", \"advmod\"]}),\n",
    "    \n",
    "    # Exemples avec \"some\"\n",
    "    (\"Some people enjoy quiet evenings.\", {\"heads\": [1, 1, 2, 3, 3], \"deps\": [\"Quantity\", \"nsubj\", \"ROOT\", \"amod\", \"dobj\"]}),\n",
    "    (\"Some items are missing from the list.\", {\"heads\": [2, 1, 3, 4, 5, 7, 7], \"deps\": [\"Quantity\", \"nsubj\", \"ROOT\", \"ccomp\", \"prep\", \"det\", \"pobj\"]}),\n",
    "    (\"She bought some groceries at the market.\", {\"heads\": [1, 1, 3, 4, 5, 7, 7], \"deps\": [\"nsubj\", \"ROOT\", \"Quantity\", \"dobj\", \"prep\", \"det\", \"pobj\"]}),\n",
    "    \n",
    "    # Exemples avec \"all\"\n",
    "    (\"All participants completed the challenge.\", {\"heads\": [1, 1, 4, 5, 5], \"deps\": [\"Quantity\", \"nsubj\", \"ROOT\", \"det\", \"dobj\"]}),\n",
    "    (\"All of the tickets were sold.\", {\"heads\": [1, 2, 4, 4, 5, 5], \"deps\": [\"Quantity\", \"prep\", \"det\", \"pobj\", \"aux\", \"ROOT\"]}),\n",
    "    (\"She invited all her friends.\", {\"heads\": [1, 1, 2, 4, 4], \"deps\": [\"nsubj\", \"ROOT\", \"Quantity\", \"poss\", \"dobj\"]}),\n",
    "    \n",
    "    \"\"\"\n",
    "    # Exemples avec \"half\"\n",
    "    (\"Half the students attended the lecture.\", {\"heads\": [1, 2, 2, 4, 5, 5], \"deps\": [\"nummod\", \"det\", \"nsubj\", \"ROOT\", \"det\", \"dobj\"]}),\n",
    "    (\"Half of the pie is gone.\", {\"heads\": [1, 2, 3, 3, 5, 5], \"deps\": [\"Quantity\", \"prep\", \"det\", \"pobj\", \"ROOT\", \"acomp\"]}),\n",
    "    (\"He gave half his earnings to charity.\", {\"heads\": [1, 1, 2, 4, 4, 6, 6], \"deps\": [\"nsubj\", \"ROOT\", \"Quantity\", \"poss\", \"dobj\", \"prep\", \"pobj\"]}),\n",
    "    \n",
    "    # Exemples avec \"whole\"\n",
    "    (\"She spent the whole day studying.\", {\"heads\": [1, 1, 3, 4, 5, 5], \"deps\": [\"nsubj\", \"ROOT\", \"det\", \"Quantity\", \"dobj\", \"acl\"]}),\n",
    "    (\"They explored the whole island.\", {\"heads\": [1, 1, 3, 4, 4], \"deps\": [\"nsubj\", \"ROOT\", \"det\", \"Quantity\", \"dobj\"]}),\n",
    "    (\"He ate the whole pizza by himself.\", {\"heads\": [1, 1, 3, 4, 4, 5, 5], \"deps\": [\"nsubj\", \"ROOT\", \"det\", \"Quantity\", \"dobj\", \"prep\", \"pobj\"]}),\n",
    "    \n",
    "    # Exemples avec \"enough\"\n",
    "    (\"She has enough money to travel.\", {\"heads\": [1, 1, 3, 4, 6, 6], \"deps\": [\"nsubj\", \"ROOT\", \"Quantity\", \"dobj\", \"mark\", \"xcomp\"]}),\n",
    "    (\"There wasn't enough time left.\", {\"heads\": [2, 2, 3, 4, 4], \"deps\": [\"expl\", \"ROOT\", \"Quantity\", \"nsubj\", \"acl\"]}),\n",
    "    (\"Do we have enough chairs for everyone?\", {\"heads\": [1, 2, 3, 4, 5, 3, 7], \"deps\": [\"aux\", \"nsubj\", \"ROOT\", \"Quantity\", \"dobj\", \"prep\", \"pobj\"]}),\n",
    "    \n",
    "    # Exemples avec \"numerous\"\n",
    "    (\"Numerous studies support this claim.\", {\"heads\": [1, 1, 3, 4, 4], \"deps\": [\"Quantity\", \"nsubj\", \"ROOT\", \"det\", \"dobj\"]}),\n",
    "    (\"They conducted numerous experiments in the lab.\", {\"heads\": [1, 1, 3, 4, 5, 5, 5], \"deps\": [\"nsubj\", \"ROOT\", \"Quantity\", \"dobj\", \"prep\", \"det\", \"pobj\"]}),\n",
    "    (\"Numerous examples can be found.\", {\"heads\": [1, 1, 3, 4, 4], \"deps\": [\"Quantity\", \"nsubj\", \"aux\", \"ROOT\", \"dobj\"]}), \"\"\"\n",
    "]\n"
   ]
  },
  {
   "cell_type": "code",
   "execution_count": 28,
   "metadata": {},
   "outputs": [
    {
     "name": "stdout",
     "output_type": "stream",
     "text": [
      "Batch content: [('She invited all her friends.', {'heads': [1, 1, 2, 4, 4], 'deps': ['nsubj', 'ROOT', 'Quantity', 'poss', 'dobj']}), ('She bought some groceries at the market.', {'heads': [1, 1, 3, 4, 5, 7, 7], 'deps': ['nsubj', 'ROOT', 'Quantity', 'dobj', 'prep', 'det', 'pobj']}), '\\n    # Exemples avec \"half\"\\n    (\"Half the students attended the lecture.\", {\"heads\": [1, 2, 2, 4, 5, 5], \"deps\": [\"nummod\", \"det\", \"nsubj\", \"ROOT\", \"det\", \"dobj\"]}),\\n    (\"Half of the pie is gone.\", {\"heads\": [1, 2, 3, 3, 5, 5], \"deps\": [\"Quantity\", \"prep\", \"det\", \"pobj\", \"ROOT\", \"acomp\"]}),\\n    (\"He gave half his earnings to charity.\", {\"heads\": [1, 1, 2, 4, 4, 6, 6], \"deps\": [\"nsubj\", \"ROOT\", \"Quantity\", \"poss\", \"dobj\", \"prep\", \"pobj\"]}),\\n    \\n    # Exemples avec \"whole\"\\n    (\"She spent the whole day studying.\", {\"heads\": [1, 1, 3, 4, 5, 5], \"deps\": [\"nsubj\", \"ROOT\", \"det\", \"Quantity\", \"dobj\", \"acl\"]}),\\n    (\"They explored the whole island.\", {\"heads\": [1, 1, 3, 4, 4], \"deps\": [\"nsubj\", \"ROOT\", \"det\", \"Quantity\", \"dobj\"]}),\\n    (\"He ate the whole pizza by himself.\", {\"heads\": [1, 1, 3, 4, 4, 5, 5], \"deps\": [\"nsubj\", \"ROOT\", \"det\", \"Quantity\", \"dobj\", \"prep\", \"pobj\"]}),\\n    \\n    # Exemples avec \"enough\"\\n    (\"She has enough money to travel.\", {\"heads\": [1, 1, 3, 4, 6, 6], \"deps\": [\"nsubj\", \"ROOT\", \"Quantity\", \"dobj\", \"mark\", \"xcomp\"]}),\\n    (\"There wasn\\'t enough time left.\", {\"heads\": [2, 2, 3, 4, 4], \"deps\": [\"expl\", \"ROOT\", \"Quantity\", \"nsubj\", \"acl\"]}),\\n    (\"Do we have enough chairs for everyone?\", {\"heads\": [1, 2, 3, 4, 5, 3, 7], \"deps\": [\"aux\", \"nsubj\", \"ROOT\", \"Quantity\", \"dobj\", \"prep\", \"pobj\"]}),\\n    \\n    # Exemples avec \"numerous\"\\n    (\"Numerous studies support this claim.\", {\"heads\": [1, 1, 3, 4, 4], \"deps\": [\"Quantity\", \"nsubj\", \"ROOT\", \"det\", \"dobj\"]}),\\n    (\"They conducted numerous experiments in the lab.\", {\"heads\": [1, 1, 3, 4, 5, 5, 5], \"deps\": [\"nsubj\", \"ROOT\", \"Quantity\", \"dobj\", \"prep\", \"det\", \"pobj\"]}),\\n    (\"Numerous examples can be found.\", {\"heads\": [1, 1, 3, 4, 4], \"deps\": [\"Quantity\", \"nsubj\", \"aux\", \"ROOT\", \"dobj\"]}), ', ('Many people think alike.', {'heads': [2, 1, 3, 3], 'deps': ['Quantity', 'nsubj', 'ROOT', 'advmod']})]\n",
      "Inspecting item: ('She invited all her friends.', {'heads': [1, 1, 2, 4, 4], 'deps': ['nsubj', 'ROOT', 'Quantity', 'poss', 'dobj']})\n"
     ]
    },
    {
     "ename": "ValueError",
     "evalue": "[E971] Found incompatible lengths in `Doc.from_array`: 5 for the array and 6 for the Doc itself.",
     "output_type": "error",
     "traceback": [
      "\u001b[1;31m---------------------------------------------------------------------------\u001b[0m",
      "\u001b[1;31mValueError\u001b[0m                                Traceback (most recent call last)",
      "Cell \u001b[1;32mIn[28], line 24\u001b[0m\n\u001b[0;32m     22\u001b[0m                     text, annotations \u001b[38;5;241m=\u001b[39m item\n\u001b[0;32m     23\u001b[0m                     doc \u001b[38;5;241m=\u001b[39m nlp\u001b[38;5;241m.\u001b[39mmake_doc(text)\n\u001b[1;32m---> 24\u001b[0m                     example \u001b[38;5;241m=\u001b[39m \u001b[43mExample\u001b[49m\u001b[38;5;241;43m.\u001b[39;49m\u001b[43mfrom_dict\u001b[49m\u001b[43m(\u001b[49m\u001b[43mdoc\u001b[49m\u001b[43m,\u001b[49m\u001b[43m \u001b[49m\u001b[43mannotations\u001b[49m\u001b[43m)\u001b[49m\n\u001b[0;32m     25\u001b[0m                     nlp\u001b[38;5;241m.\u001b[39mupdate([example], drop\u001b[38;5;241m=\u001b[39m\u001b[38;5;241m0.2\u001b[39m)\n\u001b[0;32m     29\u001b[0m nlp\u001b[38;5;241m.\u001b[39mto_disk(\u001b[38;5;124m\"\u001b[39m\u001b[38;5;124mcustom_dependency_parser\u001b[39m\u001b[38;5;124m\"\u001b[39m)  \u001b[38;5;66;03m# Save the trained model\u001b[39;00m\n",
      "File \u001b[1;32mc:\\Program Files\\Python312\\Lib\\site-packages\\spacy\\training\\example.pyx:130\u001b[0m, in \u001b[0;36mspacy.training.example.Example.from_dict\u001b[1;34m()\u001b[0m\n",
      "File \u001b[1;32mc:\\Program Files\\Python312\\Lib\\site-packages\\spacy\\training\\example.pyx:38\u001b[0m, in \u001b[0;36mspacy.training.example.annotations_to_doc\u001b[1;34m()\u001b[0m\n",
      "File \u001b[1;32mc:\\Program Files\\Python312\\Lib\\site-packages\\spacy\\tokens\\doc.pyx:1099\u001b[0m, in \u001b[0;36mspacy.tokens.doc.Doc.from_array\u001b[1;34m()\u001b[0m\n",
      "\u001b[1;31mValueError\u001b[0m: [E971] Found incompatible lengths in `Doc.from_array`: 5 for the array and 6 for the Doc itself."
     ]
    }
   ],
   "source": [
    "import spacy\n",
    "import random\n",
    "from spacy.training import Example\n",
    "from spacy.util import minibatch\n",
    "\n",
    "nlp = spacy.blank(\"en\")  # Create a blank pipeline to train a new parser\n",
    "config = {\"heads\": \"heads\", \"deps\": \"deps\"}\n",
    "\n",
    "# Get the names of all components except the parser\n",
    "other_pipes = [pipe for pipe in nlp.pipe_names if pipe != \"parser\"]\n",
    "\n",
    "with nlp.disable_pipes(*other_pipes):  # Temporarily disable other components\n",
    "    for epoch in range(10):\n",
    "        random.shuffle(TRAIN_DATA)\n",
    "        for batch in minibatch(TRAIN_DATA, size=4):\n",
    "            print(f\"Batch content: {batch}\")  # Imprime le contenu de batch pour chaque itération\n",
    "            for item in batch:\n",
    "                print(f\"Inspecting item: {item}\")\n",
    "                if len(item) != 2:\n",
    "                    print(f\"Problematic item: {item}\")\n",
    "                else:\n",
    "                    text, annotations = item\n",
    "                    doc = nlp.make_doc(text)\n",
    "                    example = Example.from_dict(doc, annotations)\n",
    "                    nlp.update([example], drop=0.2)\n",
    "\n",
    "\n",
    "\n",
    "nlp.to_disk(\"custom_dependency_parser\")  # Save the trained model\n"
   ]
  }
 ],
 "metadata": {
  "kernelspec": {
   "display_name": "Python 3",
   "language": "python",
   "name": "python3"
  },
  "language_info": {
   "codemirror_mode": {
    "name": "ipython",
    "version": 3
   },
   "file_extension": ".py",
   "mimetype": "text/x-python",
   "name": "python",
   "nbconvert_exporter": "python",
   "pygments_lexer": "ipython3",
   "version": "3.12.2"
  }
 },
 "nbformat": 4,
 "nbformat_minor": 2
}
